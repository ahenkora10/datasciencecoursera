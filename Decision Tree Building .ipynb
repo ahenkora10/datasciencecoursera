{
    "cells": [
        {
            "cell_type": "code",
            "execution_count": 1,
            "metadata": {},
            "outputs": [],
            "source": "import numpy as np \nimport pandas as pd\nfrom sklearn.tree import DecisionTreeClassifier"
        },
        {
            "cell_type": "code",
            "execution_count": 2,
            "metadata": {},
            "outputs": [
                {
                    "name": "stdout",
                    "output_type": "stream",
                    "text": "--2020-10-07 20:10:36--  https://s3-api.us-geo.objectstorage.softlayer.net/cf-courses-data/CognitiveClass/ML0101ENv3/labs/drug200.csv\nResolving s3-api.us-geo.objectstorage.softlayer.net (s3-api.us-geo.objectstorage.softlayer.net)... 67.228.254.196\nConnecting to s3-api.us-geo.objectstorage.softlayer.net (s3-api.us-geo.objectstorage.softlayer.net)|67.228.254.196|:443... connected.\nHTTP request sent, awaiting response... 200 OK\nLength: 6027 (5.9K) [text/csv]\nSaving to: \u2018drug200.csv\u2019\n\n100%[======================================>] 6,027       --.-K/s   in 0s      \n\n2020-10-07 20:10:36 (287 MB/s) - \u2018drug200.csv\u2019 saved [6027/6027]\n\n"
                }
            ],
            "source": "!wget -O drug200.csv https://s3-api.us-geo.objectstorage.softlayer.net/cf-courses-data/CognitiveClass/ML0101ENv3/labs/drug200.csv"
        },
        {
            "cell_type": "code",
            "execution_count": 3,
            "metadata": {
                "scrolled": true
            },
            "outputs": [
                {
                    "data": {
                        "text/html": "<div>\n<style scoped>\n    .dataframe tbody tr th:only-of-type {\n        vertical-align: middle;\n    }\n\n    .dataframe tbody tr th {\n        vertical-align: top;\n    }\n\n    .dataframe thead th {\n        text-align: right;\n    }\n</style>\n<table border=\"1\" class=\"dataframe\">\n  <thead>\n    <tr style=\"text-align: right;\">\n      <th></th>\n      <th>Age</th>\n      <th>Sex</th>\n      <th>BP</th>\n      <th>Cholesterol</th>\n      <th>Na_to_K</th>\n      <th>Drug</th>\n    </tr>\n  </thead>\n  <tbody>\n    <tr>\n      <th>0</th>\n      <td>23</td>\n      <td>F</td>\n      <td>HIGH</td>\n      <td>HIGH</td>\n      <td>25.355</td>\n      <td>drugY</td>\n    </tr>\n    <tr>\n      <th>1</th>\n      <td>47</td>\n      <td>M</td>\n      <td>LOW</td>\n      <td>HIGH</td>\n      <td>13.093</td>\n      <td>drugC</td>\n    </tr>\n    <tr>\n      <th>2</th>\n      <td>47</td>\n      <td>M</td>\n      <td>LOW</td>\n      <td>HIGH</td>\n      <td>10.114</td>\n      <td>drugC</td>\n    </tr>\n    <tr>\n      <th>3</th>\n      <td>28</td>\n      <td>F</td>\n      <td>NORMAL</td>\n      <td>HIGH</td>\n      <td>7.798</td>\n      <td>drugX</td>\n    </tr>\n    <tr>\n      <th>4</th>\n      <td>61</td>\n      <td>F</td>\n      <td>LOW</td>\n      <td>HIGH</td>\n      <td>18.043</td>\n      <td>drugY</td>\n    </tr>\n  </tbody>\n</table>\n</div>",
                        "text/plain": "   Age Sex      BP Cholesterol  Na_to_K   Drug\n0   23   F    HIGH        HIGH   25.355  drugY\n1   47   M     LOW        HIGH   13.093  drugC\n2   47   M     LOW        HIGH   10.114  drugC\n3   28   F  NORMAL        HIGH    7.798  drugX\n4   61   F     LOW        HIGH   18.043  drugY"
                    },
                    "execution_count": 3,
                    "metadata": {},
                    "output_type": "execute_result"
                }
            ],
            "source": "my_data = pd.read_csv(\"drug200.csv\", delimiter=\",\")\nmy_data[0:5]"
        },
        {
            "cell_type": "code",
            "execution_count": 5,
            "metadata": {
                "scrolled": true
            },
            "outputs": [
                {
                    "data": {
                        "text/plain": "(200, 6)"
                    },
                    "execution_count": 5,
                    "metadata": {},
                    "output_type": "execute_result"
                }
            ],
            "source": "my_data.shape"
        },
        {
            "cell_type": "code",
            "execution_count": 6,
            "metadata": {},
            "outputs": [
                {
                    "data": {
                        "text/plain": "array([[23, 'F', 'HIGH', 'HIGH', 25.355],\n       [47, 'M', 'LOW', 'HIGH', 13.093],\n       [47, 'M', 'LOW', 'HIGH', 10.113999999999999],\n       [28, 'F', 'NORMAL', 'HIGH', 7.797999999999999],\n       [61, 'F', 'LOW', 'HIGH', 18.043]], dtype=object)"
                    },
                    "execution_count": 6,
                    "metadata": {},
                    "output_type": "execute_result"
                }
            ],
            "source": "X = my_data[['Age', 'Sex', 'BP', 'Cholesterol', 'Na_to_K']].values\nX[0:5]"
        },
        {
            "cell_type": "code",
            "execution_count": 7,
            "metadata": {},
            "outputs": [
                {
                    "data": {
                        "text/plain": "array([[23, 0, 0, 0, 25.355],\n       [47, 1, 1, 0, 13.093],\n       [47, 1, 1, 0, 10.113999999999999],\n       [28, 0, 2, 0, 7.797999999999999],\n       [61, 0, 1, 0, 18.043]], dtype=object)"
                    },
                    "execution_count": 7,
                    "metadata": {},
                    "output_type": "execute_result"
                }
            ],
            "source": "from sklearn import preprocessing\nle_sex = preprocessing.LabelEncoder()\nle_sex.fit(['F','M'])\nX[:,1] = le_sex.transform(X[:,1]) \n\n\nle_BP = preprocessing.LabelEncoder()\nle_BP.fit([ 'LOW', 'NORMAL', 'HIGH'])\nX[:,2] = le_BP.transform(X[:,2])\n\n\nle_Chol = preprocessing.LabelEncoder()\nle_Chol.fit([ 'NORMAL', 'HIGH'])\nX[:,3] = le_Chol.transform(X[:,3]) \n\nX[0:5]"
        },
        {
            "cell_type": "code",
            "execution_count": 8,
            "metadata": {},
            "outputs": [
                {
                    "data": {
                        "text/plain": "0    drugY\n1    drugC\n2    drugC\n3    drugX\n4    drugY\nName: Drug, dtype: object"
                    },
                    "execution_count": 8,
                    "metadata": {},
                    "output_type": "execute_result"
                }
            ],
            "source": "y = my_data[\"Drug\"]\ny[0:5]"
        },
        {
            "cell_type": "code",
            "execution_count": 9,
            "metadata": {},
            "outputs": [],
            "source": "from sklearn.model_selection import train_test_split"
        },
        {
            "cell_type": "code",
            "execution_count": 10,
            "metadata": {},
            "outputs": [],
            "source": "X_trainset, X_testset, y_trainset, y_testset = train_test_split(X, y, test_size=0.3, random_state=3)"
        },
        {
            "cell_type": "code",
            "execution_count": 13,
            "metadata": {},
            "outputs": [
                {
                    "data": {
                        "text/plain": "(140, 5)"
                    },
                    "execution_count": 13,
                    "metadata": {},
                    "output_type": "execute_result"
                }
            ],
            "source": "X_trainset.shape"
        },
        {
            "cell_type": "code",
            "execution_count": 14,
            "metadata": {},
            "outputs": [
                {
                    "data": {
                        "text/plain": "(140,)"
                    },
                    "execution_count": 14,
                    "metadata": {},
                    "output_type": "execute_result"
                }
            ],
            "source": "y_trainset.shape"
        },
        {
            "cell_type": "code",
            "execution_count": 17,
            "metadata": {},
            "outputs": [
                {
                    "name": "stdout",
                    "output_type": "stream",
                    "text": "[[26 0 0 1 19.160999999999998]\n [41 0 2 1 22.905]\n [28 0 2 0 19.675]\n [19 0 0 0 13.312999999999999]\n [50 1 2 1 15.79]\n [24 1 2 0 25.785999999999998]\n [72 1 1 0 16.31]\n [74 0 1 0 20.941999999999997]\n [37 0 1 1 12.005999999999998]\n [31 1 0 1 17.069000000000003]\n [22 0 2 0 8.607000000000001]\n [20 0 2 1 9.281]\n [28 0 1 0 13.127]\n [59 0 2 0 13.884]\n [15 1 0 1 17.206]\n [51 0 1 1 23.003]\n [45 1 1 1 10.017000000000001]\n [33 0 1 0 33.486]\n [39 1 0 0 9.664]\n [29 0 0 0 29.45]\n [60 1 2 0 15.171]\n [24 0 0 1 18.457]\n [49 0 2 1 9.381]\n [37 1 1 1 8.968]\n [32 0 0 1 10.292]\n [21 0 0 1 28.631999999999998]\n [23 1 2 0 12.26]\n [40 1 0 0 27.826]\n [38 1 1 0 18.295]\n [47 1 1 1 30.568]\n [22 0 0 1 22.818]\n [47 1 0 0 10.402999999999999]\n [30 0 2 0 10.443]\n [69 1 1 0 15.478]\n [42 0 0 0 21.035999999999998]\n [45 1 1 1 8.37]\n [49 1 0 1 6.269]\n [72 1 1 0 6.769]\n [74 1 1 1 11.939]\n [66 0 2 1 8.107000000000001]\n [46 1 2 1 7.285]\n [68 0 2 1 27.05]\n [58 0 0 0 19.416]\n [19 0 0 1 25.969]\n [20 1 0 1 35.639]\n [69 1 1 1 11.455]\n [32 0 0 1 25.974]\n [72 1 0 1 9.677]\n [50 0 2 1 12.295]\n [54 1 2 0 24.658]\n [36 0 0 0 11.198]\n [64 0 1 1 25.741]\n [35 1 1 1 9.17]\n [47 0 1 0 11.767000000000001]\n [47 0 1 0 10.067]\n [34 0 0 1 19.199]\n [26 0 1 0 14.16]\n [37 0 0 1 23.090999999999998]\n [48 1 0 1 10.446]\n [47 0 2 1 6.683]\n [55 0 0 0 10.977]\n [43 1 1 1 19.368]\n [35 0 0 0 12.894]\n [49 1 1 1 11.014000000000001]\n [45 1 1 0 17.951]\n [15 1 2 0 9.084]\n [57 0 2 1 25.893]\n [65 1 0 1 11.34]\n [70 1 0 0 9.849]\n [46 0 0 0 34.686]\n [41 1 0 1 15.155999999999999]\n [34 1 0 0 18.703]\n [42 1 0 1 12.765999999999998]\n [32 1 0 1 9.445]\n [25 1 2 0 19.011]\n [62 1 1 1 27.183000000000003]\n [23 1 0 0 8.011000000000001]\n [23 1 2 0 31.686]\n [58 0 1 0 38.247]\n [26 1 1 1 20.909000000000002]\n [68 1 0 0 11.009]\n [60 1 0 0 13.934000000000001]\n [15 0 0 1 16.725]\n [53 0 0 1 12.495]\n [37 1 1 1 16.724]\n [40 0 2 0 10.103]\n [59 1 0 0 13.935]\n [47 1 1 0 13.093]\n [65 0 1 1 13.769]\n [16 1 0 1 19.007]\n [67 1 2 1 9.514]\n [23 1 1 0 7.297999999999999]\n [56 0 1 0 11.567]\n [68 0 0 1 10.189]\n [65 1 0 1 34.997]\n [39 0 1 1 22.697]\n [35 1 2 1 7.845]\n [64 1 0 1 20.932]\n [28 0 1 0 19.796]\n [56 1 1 0 15.015]\n [57 1 1 1 19.128]\n [39 1 1 1 13.937999999999999]\n [32 0 1 1 10.84]\n [36 0 2 0 16.753]\n [65 0 0 1 31.875999999999998]\n [41 1 1 0 11.037]\n [67 1 1 1 20.693]\n [23 1 2 1 14.02]\n [40 0 1 1 11.349]\n [53 1 1 0 22.963]\n [56 0 0 0 25.395]\n [50 1 0 0 7.49]\n [22 1 0 1 28.294]\n [18 0 0 1 24.276]\n [62 1 2 0 16.594]\n [32 0 2 0 7.477]\n [38 0 1 1 29.875]\n [47 1 1 0 10.113999999999999]\n [29 1 0 0 12.856]\n [49 1 0 1 8.7]\n [64 1 2 0 7.761]\n [31 1 0 0 30.366]\n [60 1 0 1 8.621]\n [57 0 2 0 14.216]\n [42 0 1 1 29.271]\n [39 0 2 1 17.225]\n [61 0 1 1 7.34]\n [58 0 1 0 26.645]\n [61 0 0 0 25.475]\n [22 1 1 0 8.151]\n [51 1 0 1 11.343]\n [20 0 0 0 11.262]\n [42 1 1 0 20.012999999999998]\n [26 0 0 1 12.307]\n [63 1 2 0 25.916999999999998]\n [23 0 0 0 25.355]\n [18 0 0 0 37.188]\n [52 1 1 1 32.922]\n [55 1 2 1 7.261]\n [22 1 2 0 11.953]]\n"
                }
            ],
            "source": "print(X_trainset)"
        },
        {
            "cell_type": "code",
            "execution_count": 18,
            "metadata": {},
            "outputs": [
                {
                    "name": "stdout",
                    "output_type": "stream",
                    "text": "77     drugY\n73     drugY\n71     drugY\n78     drugA\n42     drugY\n133    drugY\n192    drugY\n13     drugY\n146    drugX\n74     drugY\n5      drugX\n114    drugX\n102    drugC\n181    drugX\n121    drugY\n168    drugY\n171    drugX\n24     drugY\n144    drugA\n92     drugY\n8      drugY\n53     drugY\n27     drugX\n105    drugX\n118    drugA\n163    drugY\n43     drugX\n57     drugY\n165    drugY\n22     drugY\n       ...  \n97     drugY\n110    drugA\n104    drugY\n69     drugY\n90     drugY\n129    drugX\n60     drugY\n2      drugC\n66     drugA\n150    drugA\n81     drugX\n26     drugY\n142    drugB\n167    drugX\n93     drugY\n172    drugY\n148    drugX\n166    drugY\n119    drugY\n149    drugC\n138    drugB\n169    drugA\n107    drugY\n147    drugA\n21     drugY\n0      drugY\n184    drugY\n131    drugY\n152    drugX\n106    drugX\nName: Drug, Length: 140, dtype: object\n"
                }
            ],
            "source": "print(y_trainset)"
        },
        {
            "cell_type": "code",
            "execution_count": 19,
            "metadata": {},
            "outputs": [
                {
                    "data": {
                        "text/plain": "DecisionTreeClassifier(class_weight=None, criterion='entropy', max_depth=4,\n            max_features=None, max_leaf_nodes=None,\n            min_impurity_decrease=0.0, min_impurity_split=None,\n            min_samples_leaf=1, min_samples_split=2,\n            min_weight_fraction_leaf=0.0, presort=False, random_state=None,\n            splitter='best')"
                    },
                    "execution_count": 19,
                    "metadata": {},
                    "output_type": "execute_result"
                }
            ],
            "source": "drugTree = DecisionTreeClassifier(criterion=\"entropy\", max_depth = 4)\ndrugTree # it shows the default parameters"
        },
        {
            "cell_type": "code",
            "execution_count": 20,
            "metadata": {},
            "outputs": [
                {
                    "data": {
                        "text/plain": "DecisionTreeClassifier(class_weight=None, criterion='entropy', max_depth=4,\n            max_features=None, max_leaf_nodes=None,\n            min_impurity_decrease=0.0, min_impurity_split=None,\n            min_samples_leaf=1, min_samples_split=2,\n            min_weight_fraction_leaf=0.0, presort=False, random_state=None,\n            splitter='best')"
                    },
                    "execution_count": 20,
                    "metadata": {},
                    "output_type": "execute_result"
                }
            ],
            "source": "drugTree.fit(X_trainset,y_trainset)"
        },
        {
            "cell_type": "code",
            "execution_count": 21,
            "metadata": {},
            "outputs": [],
            "source": "predTree = drugTree.predict(X_testset)"
        },
        {
            "cell_type": "code",
            "execution_count": 22,
            "metadata": {},
            "outputs": [
                {
                    "name": "stdout",
                    "output_type": "stream",
                    "text": "['drugY' 'drugX' 'drugX' 'drugX' 'drugX']\n40     drugY\n51     drugX\n139    drugX\n197    drugX\n170    drugX\nName: Drug, dtype: object\n"
                }
            ],
            "source": "print (predTree [0:5])\nprint (y_testset [0:5])"
        },
        {
            "cell_type": "code",
            "execution_count": 23,
            "metadata": {},
            "outputs": [
                {
                    "name": "stdout",
                    "output_type": "stream",
                    "text": "DecisionTrees's Accuracy:  0.9833333333333333\n"
                }
            ],
            "source": "from sklearn import metrics\nimport matplotlib.pyplot as plt\nprint(\"DecisionTrees's Accuracy: \", metrics.accuracy_score(y_testset, predTree))"
        },
        {
            "cell_type": "code",
            "execution_count": 25,
            "metadata": {},
            "outputs": [
                {
                    "name": "stdout",
                    "output_type": "stream",
                    "text": "Solving environment: failed\n\n# >>>>>>>>>>>>>>>>>>>>>> ERROR REPORT <<<<<<<<<<<<<<<<<<<<<<\n\n    Traceback (most recent call last):\n      File \"/opt/conda/lib/python3.7/site-packages/conda/exceptions.py\", line 819, in __call__\n        return func(*args, **kwargs)\n      File \"/opt/conda/lib/python3.7/site-packages/conda/cli/main.py\", line 78, in _main\n        exit_code = do_call(args, p)\n      File \"/opt/conda/lib/python3.7/site-packages/conda/cli/conda_argparse.py\", line 77, in do_call\n        exit_code = getattr(module, func_name)(args, parser)\n      File \"/opt/conda/lib/python3.7/site-packages/conda/cli/main_install.py\", line 11, in execute\n        install(args, parser, 'install')\n      File \"/opt/conda/lib/python3.7/site-packages/conda/cli/install.py\", line 235, in install\n        force_reinstall=context.force,\n      File \"/opt/conda/lib/python3.7/site-packages/conda/core/solve.py\", line 518, in solve_for_transaction\n        force_remove, force_reinstall)\n      File \"/opt/conda/lib/python3.7/site-packages/conda/core/solve.py\", line 451, in solve_for_diff\n        final_precs = self.solve_final_state(deps_modifier, prune, ignore_pinned, force_remove)\n      File \"/opt/conda/lib/python3.7/site-packages/conda/core/solve.py\", line 180, in solve_final_state\n        index, r = self._prepare(prepared_specs)\n      File \"/opt/conda/lib/python3.7/site-packages/conda/core/solve.py\", line 592, in _prepare\n        self.subdirs, prepared_specs)\n      File \"/opt/conda/lib/python3.7/site-packages/conda/core/index.py\", line 217, in get_reduced_index\n        push_record(record)\n      File \"/opt/conda/lib/python3.7/site-packages/conda/core/index.py\", line 198, in push_record\n        for _spec in record.combined_depends:\n      File \"/opt/conda/lib/python3.7/site-packages/conda/models/records.py\", line 275, in combined_depends\n        MatchSpec(spec, optional=True) for spec in self.constrains or ()\n      File \"/opt/conda/lib/python3.7/site-packages/conda/models/match_spec.py\", line 416, in merge\n        for name, specs in iteritems(grouped)\n      File \"/opt/conda/lib/python3.7/site-packages/conda/models/match_spec.py\", line 416, in <dictcomp>\n        for name, specs in iteritems(grouped)\n      File \"/opt/conda/lib/python3.7/site-packages/conda/models/match_spec.py\", line 415, in <lambda>\n        name: reduce(lambda x, y: x._merge(y), specs) if len(specs) > 1 else specs[0]\n      File \"/opt/conda/lib/python3.7/site-packages/conda/models/match_spec.py\", line 436, in _merge\n        final_components[component_name] = this_component.merge(that_component)\n      File \"/opt/conda/lib/python3.7/site-packages/conda/models/match_spec.py\", line 808, in merge\n        % (self.raw_value, other.raw_value))\n    ValueError: Incompatible component merge:\n      - '*_cp39'\n      - '*_None'\n\n`$ /opt/conda/bin/conda install -c conda-forge pydotplus -y`\n\n  environment variables:\n                 CIO_TEST=<not set>\n                CLASSPATH=/home/dsxuser/jars/*:/opt/ibm/dsdriver/java/db2jcc4.jar\n        CONDA_DEFAULT_ENV=Python36\n                CONDA_EXE=/opt/conda/bin/conda\n               CONDA_HOME=/opt/conda\n             CONDA_PREFIX=/opt/conda/envs/Python36\n           CONDA_PREFIX_1=/opt/conda/envs/DSX-Jupyter\n    CONDA_PROMPT_MODIFIER=(Python36)\n         CONDA_PYTHON_EXE=/opt/conda/bin/python\n               CONDA_ROOT=/opt/conda\n              CONDA_SHLVL=2\n          LD_LIBRARY_PATH=/opt/ibm/dsdriver/lib\n                     PATH=/opt/conda/envs/Python36/bin:/opt/conda/bin:/usr/bin:/bin:/opt/ibm/dsd\n                          river/bin\n       REQUESTS_CA_BUNDLE=<not set>\n            SSL_CERT_FILE=<not set>\n\n     active environment : Python36\n    active env location : /opt/conda/envs/Python36\n            shell level : 2\n       user config file : /home/dsxuser/.condarc\n populated config files : /opt/conda/.condarc\n          conda version : 4.5.12\n    conda-build version : not installed\n         python version : 3.7.9.final.0\n       base environment : /opt/conda  (writable)\n           channel URLs : https://conda.anaconda.org/conda-forge/linux-64\n                          https://conda.anaconda.org/conda-forge/noarch\n                          https://repo.anaconda.com/pkgs/main/linux-64\n                          https://repo.anaconda.com/pkgs/main/noarch\n          package cache : /opt/conda/pkgs\n                          /home/dsxuser/.conda/pkgs\n       envs directories : /opt/conda/envs\n                          /home/dsxuser/.conda/envs\n               platform : linux-64\n             user-agent : conda/4.5.12 requests/2.21.0 CPython/3.7.9 Linux/4.15.0-117-generic centos/7 glibc/2.17\n                UID:GID : 1000:1000\n             netrc file : None\n           offline mode : False\n\n\nAn unexpected error has occurred. Conda has prepared the above report.\nUpload successful.\nSolving environment: failed\n\n# >>>>>>>>>>>>>>>>>>>>>> ERROR REPORT <<<<<<<<<<<<<<<<<<<<<<\n\n    Traceback (most recent call last):\n      File \"/opt/conda/lib/python3.7/site-packages/conda/exceptions.py\", line 819, in __call__\n        return func(*args, **kwargs)\n      File \"/opt/conda/lib/python3.7/site-packages/conda/cli/main.py\", line 78, in _main\n        exit_code = do_call(args, p)\n      File \"/opt/conda/lib/python3.7/site-packages/conda/cli/conda_argparse.py\", line 77, in do_call\n        exit_code = getattr(module, func_name)(args, parser)\n      File \"/opt/conda/lib/python3.7/site-packages/conda/cli/main_install.py\", line 11, in execute\n        install(args, parser, 'install')\n      File \"/opt/conda/lib/python3.7/site-packages/conda/cli/install.py\", line 235, in install\n        force_reinstall=context.force,\n      File \"/opt/conda/lib/python3.7/site-packages/conda/core/solve.py\", line 518, in solve_for_transaction\n        force_remove, force_reinstall)\n      File \"/opt/conda/lib/python3.7/site-packages/conda/core/solve.py\", line 451, in solve_for_diff\n        final_precs = self.solve_final_state(deps_modifier, prune, ignore_pinned, force_remove)\n      File \"/opt/conda/lib/python3.7/site-packages/conda/core/solve.py\", line 180, in solve_final_state\n        index, r = self._prepare(prepared_specs)\n      File \"/opt/conda/lib/python3.7/site-packages/conda/core/solve.py\", line 592, in _prepare\n        self.subdirs, prepared_specs)\n      File \"/opt/conda/lib/python3.7/site-packages/conda/core/index.py\", line 217, in get_reduced_index\n        push_record(record)\n      File \"/opt/conda/lib/python3.7/site-packages/conda/core/index.py\", line 198, in push_record\n        for _spec in record.combined_depends:\n      File \"/opt/conda/lib/python3.7/site-packages/conda/models/records.py\", line 275, in combined_depends\n        MatchSpec(spec, optional=True) for spec in self.constrains or ()\n      File \"/opt/conda/lib/python3.7/site-packages/conda/models/match_spec.py\", line 416, in merge\n        for name, specs in iteritems(grouped)\n      File \"/opt/conda/lib/python3.7/site-packages/conda/models/match_spec.py\", line 416, in <dictcomp>\n        for name, specs in iteritems(grouped)\n      File \"/opt/conda/lib/python3.7/site-packages/conda/models/match_spec.py\", line 415, in <lambda>\n        name: reduce(lambda x, y: x._merge(y), specs) if len(specs) > 1 else specs[0]\n      File \"/opt/conda/lib/python3.7/site-packages/conda/models/match_spec.py\", line 436, in _merge\n        final_components[component_name] = this_component.merge(that_component)\n      File \"/opt/conda/lib/python3.7/site-packages/conda/models/match_spec.py\", line 808, in merge\n        % (self.raw_value, other.raw_value))\n    ValueError: Incompatible component merge:\n      - '*_cp39'\n      - '*_None'\n\n`$ /opt/conda/bin/conda install -c conda-forge python-graphviz -y`\n\n  environment variables:\n                 CIO_TEST=<not set>\n                CLASSPATH=/home/dsxuser/jars/*:/opt/ibm/dsdriver/java/db2jcc4.jar\n        CONDA_DEFAULT_ENV=Python36\n                CONDA_EXE=/opt/conda/bin/conda\n               CONDA_HOME=/opt/conda\n             CONDA_PREFIX=/opt/conda/envs/Python36\n           CONDA_PREFIX_1=/opt/conda/envs/DSX-Jupyter\n    CONDA_PROMPT_MODIFIER=(Python36)\n         CONDA_PYTHON_EXE=/opt/conda/bin/python\n               CONDA_ROOT=/opt/conda\n              CONDA_SHLVL=2\n          LD_LIBRARY_PATH=/opt/ibm/dsdriver/lib\n                     PATH=/opt/conda/envs/Python36/bin:/opt/conda/bin:/usr/bin:/bin:/opt/ibm/dsd\n                          river/bin\n       REQUESTS_CA_BUNDLE=<not set>\n            SSL_CERT_FILE=<not set>\n\n     active environment : Python36\n    active env location : /opt/conda/envs/Python36\n            shell level : 2\n       user config file : /home/dsxuser/.condarc\n populated config files : /opt/conda/.condarc\n          conda version : 4.5.12\n    conda-build version : not installed\n         python version : 3.7.9.final.0\n       base environment : /opt/conda  (writable)\n           channel URLs : https://conda.anaconda.org/conda-forge/linux-64\n                          https://conda.anaconda.org/conda-forge/noarch\n                          https://repo.anaconda.com/pkgs/main/linux-64\n                          https://repo.anaconda.com/pkgs/main/noarch\n          package cache : /opt/conda/pkgs\n                          /home/dsxuser/.conda/pkgs\n       envs directories : /opt/conda/envs\n                          /home/dsxuser/.conda/envs\n               platform : linux-64\n             user-agent : conda/4.5.12 requests/2.21.0 CPython/3.7.9 Linux/4.15.0-117-generic centos/7 glibc/2.17\n                UID:GID : 1000:1000\n             netrc file : None\n           offline mode : False\n\n\nAn unexpected error has occurred. Conda has prepared the above report.\nUpload successful.\r\n"
                }
            ],
            "source": "# Notice: You might need to uncomment and install the pydotplus and graphviz libraries if you have not installed these before\n!conda install -c conda-forge pydotplus -y\n!conda install -c conda-forge python-graphviz -y"
        },
        {
            "cell_type": "code",
            "execution_count": 27,
            "metadata": {},
            "outputs": [
                {
                    "name": "stdout",
                    "output_type": "stream",
                    "text": "Solving environment: failed\n\n# >>>>>>>>>>>>>>>>>>>>>> ERROR REPORT <<<<<<<<<<<<<<<<<<<<<<\n\n    Traceback (most recent call last):\n      File \"/opt/conda/lib/python3.7/site-packages/conda/exceptions.py\", line 819, in __call__\n        return func(*args, **kwargs)\n      File \"/opt/conda/lib/python3.7/site-packages/conda/cli/main.py\", line 78, in _main\n        exit_code = do_call(args, p)\n      File \"/opt/conda/lib/python3.7/site-packages/conda/cli/conda_argparse.py\", line 77, in do_call\n        exit_code = getattr(module, func_name)(args, parser)\n      File \"/opt/conda/lib/python3.7/site-packages/conda/cli/main_install.py\", line 11, in execute\n        install(args, parser, 'install')\n      File \"/opt/conda/lib/python3.7/site-packages/conda/cli/install.py\", line 235, in install\n        force_reinstall=context.force,\n      File \"/opt/conda/lib/python3.7/site-packages/conda/core/solve.py\", line 518, in solve_for_transaction\n        force_remove, force_reinstall)\n      File \"/opt/conda/lib/python3.7/site-packages/conda/core/solve.py\", line 451, in solve_for_diff\n        final_precs = self.solve_final_state(deps_modifier, prune, ignore_pinned, force_remove)\n      File \"/opt/conda/lib/python3.7/site-packages/conda/core/solve.py\", line 180, in solve_final_state\n        index, r = self._prepare(prepared_specs)\n      File \"/opt/conda/lib/python3.7/site-packages/conda/core/solve.py\", line 592, in _prepare\n        self.subdirs, prepared_specs)\n      File \"/opt/conda/lib/python3.7/site-packages/conda/core/index.py\", line 217, in get_reduced_index\n        push_record(record)\n      File \"/opt/conda/lib/python3.7/site-packages/conda/core/index.py\", line 198, in push_record\n        for _spec in record.combined_depends:\n      File \"/opt/conda/lib/python3.7/site-packages/conda/models/records.py\", line 275, in combined_depends\n        MatchSpec(spec, optional=True) for spec in self.constrains or ()\n      File \"/opt/conda/lib/python3.7/site-packages/conda/models/match_spec.py\", line 416, in merge\n        for name, specs in iteritems(grouped)\n      File \"/opt/conda/lib/python3.7/site-packages/conda/models/match_spec.py\", line 416, in <dictcomp>\n        for name, specs in iteritems(grouped)\n      File \"/opt/conda/lib/python3.7/site-packages/conda/models/match_spec.py\", line 415, in <lambda>\n        name: reduce(lambda x, y: x._merge(y), specs) if len(specs) > 1 else specs[0]\n      File \"/opt/conda/lib/python3.7/site-packages/conda/models/match_spec.py\", line 436, in _merge\n        final_components[component_name] = this_component.merge(that_component)\n      File \"/opt/conda/lib/python3.7/site-packages/conda/models/match_spec.py\", line 808, in merge\n        % (self.raw_value, other.raw_value))\n    ValueError: Incompatible component merge:\n      - '*_cp39'\n      - '*_None'\n\n`$ /opt/conda/bin/conda install -c conda-forge pydotplus -y`\n\n  environment variables:\n                 CIO_TEST=<not set>\n                CLASSPATH=/home/dsxuser/jars/*:/opt/ibm/dsdriver/java/db2jcc4.jar\n        CONDA_DEFAULT_ENV=Python36\n                CONDA_EXE=/opt/conda/bin/conda\n               CONDA_HOME=/opt/conda\n             CONDA_PREFIX=/opt/conda/envs/Python36\n           CONDA_PREFIX_1=/opt/conda/envs/DSX-Jupyter\n    CONDA_PROMPT_MODIFIER=(Python36)\n         CONDA_PYTHON_EXE=/opt/conda/bin/python\n               CONDA_ROOT=/opt/conda\n              CONDA_SHLVL=2\n          LD_LIBRARY_PATH=/opt/ibm/dsdriver/lib\n                     PATH=/opt/conda/envs/Python36/bin:/opt/conda/bin:/usr/bin:/bin:/opt/ibm/dsd\n                          river/bin\n       REQUESTS_CA_BUNDLE=<not set>\n            SSL_CERT_FILE=<not set>\n\n     active environment : Python36\n    active env location : /opt/conda/envs/Python36\n            shell level : 2\n       user config file : /home/dsxuser/.condarc\n populated config files : /opt/conda/.condarc\n          conda version : 4.5.12\n    conda-build version : not installed\n         python version : 3.7.9.final.0\n       base environment : /opt/conda  (writable)\n           channel URLs : https://conda.anaconda.org/conda-forge/linux-64\n                          https://conda.anaconda.org/conda-forge/noarch\n                          https://repo.anaconda.com/pkgs/main/linux-64\n                          https://repo.anaconda.com/pkgs/main/noarch\n          package cache : /opt/conda/pkgs\n                          /home/dsxuser/.conda/pkgs\n       envs directories : /opt/conda/envs\n                          /home/dsxuser/.conda/envs\n               platform : linux-64\n             user-agent : conda/4.5.12 requests/2.21.0 CPython/3.7.9 Linux/4.15.0-117-generic centos/7 glibc/2.17\n                UID:GID : 1000:1000\n             netrc file : None\n           offline mode : False\n\n\nAn unexpected error has occurred. Conda has prepared the above report.\nUpload successful.\n"
                }
            ],
            "source": "!conda install -c conda-forge pydotplus -y"
        },
        {
            "cell_type": "code",
            "execution_count": null,
            "metadata": {},
            "outputs": [],
            "source": ""
        }
    ],
    "metadata": {
        "kernelspec": {
            "display_name": "Python 3.6",
            "language": "python",
            "name": "python3"
        },
        "language_info": {
            "codemirror_mode": {
                "name": "ipython",
                "version": 3
            },
            "file_extension": ".py",
            "mimetype": "text/x-python",
            "name": "python",
            "nbconvert_exporter": "python",
            "pygments_lexer": "ipython3",
            "version": "3.6.9"
        }
    },
    "nbformat": 4,
    "nbformat_minor": 1
}